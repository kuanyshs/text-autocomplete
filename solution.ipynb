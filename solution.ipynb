{
 "cells": [
  {
   "cell_type": "markdown",
   "id": "a9a57b6f",
   "metadata": {},
   "source": [
    "# Решение: автодополнение текста\n",
    "\n",
    "В ноутбуке используются реализованные функции из src/:\n",
    "- подготовка/сплит данных\n",
    "- токенизация и словарь\n",
    "- обучение LSTM-автодополнения\n",
    "- оценка ROUGE для LSTM и DistilGPT-2\n",
    "- вывод примеров и сохранение кратких отчётов в папку models/\n",
    "\n",
    "Особенности решения:\n",
    "- специальный TweetTokenizer() для этих текстов из sentiment140.\n",
    "- SortedBatchSampler чтобы ускорить обучение. \n",
    "- weight tying в LSTMAutocomplete: self.fc.weight = self.embedding.weight для улучшения качества и ускорения.\n",
    "- в LSTMAutocomplete.generate_batch применяется nucleus top_p, что улучшает качество выдачи."
   ]
  },
  {
   "cell_type": "code",
   "execution_count": 1,
   "id": "e9218e0b",
   "metadata": {},
   "outputs": [
    {
     "name": "stdout",
     "output_type": "stream",
     "text": [
      "Root: C:\\Users\\Design\\Downloads\\for_yandex_NLP_course\\project1\\text-autocomplete\n",
      "Src : C:\\Users\\Design\\Downloads\\for_yandex_NLP_course\\project1\\text-autocomplete\\src\n"
     ]
    }
   ],
   "source": [
    "import os\n",
    "import sys\n",
    "from pathlib import Path\n",
    "\n",
    "# Убедимся, что корень репозитория и папка src на пути\n",
    "ROOT = Path.cwd()\n",
    "SRC = ROOT / \"src\"\n",
    "if str(ROOT) not in sys.path:\n",
    "    sys.path.append(str(ROOT))\n",
    "if str(SRC) not in sys.path:\n",
    "    sys.path.append(str(SRC))\n",
    "\n",
    "print(\"Root:\", ROOT)\n",
    "print(\"Src :\", SRC)"
   ]
  },
  {
   "cell_type": "code",
   "execution_count": 2,
   "id": "edf27fdd",
   "metadata": {},
   "outputs": [
    {
     "name": "stderr",
     "output_type": "stream",
     "text": [
      "C:\\ProgramData\\Anaconda3\\lib\\site-packages\\transformers\\utils\\generic.py:441: UserWarning: torch.utils._pytree._register_pytree_node is deprecated. Please use torch.utils._pytree.register_pytree_node instead.\n",
      "  _torch_pytree._register_pytree_node(\n",
      "C:\\ProgramData\\Anaconda3\\lib\\site-packages\\transformers\\utils\\generic.py:309: UserWarning: torch.utils._pytree._register_pytree_node is deprecated. Please use torch.utils._pytree.register_pytree_node instead.\n",
      "  _torch_pytree._register_pytree_node(\n"
     ]
    }
   ],
   "source": [
    "# Импорт реализованных функций и необходимых пакетов\n",
    "import yaml\n",
    "import torch\n",
    "import torch.nn as nn\n",
    "\n",
    "from src.data_utils import (\n",
    "    set_seed,\n",
    "    load_lines,\n",
    "    clean_and_tokenize,\n",
    "    build_vocabulary,\n",
    "    save_summary,\n",
    "    split_and_save_texts,\n",
    "    select_examples_by_indices,\n",
    "    print_selected_examples,\n",
    ")\n",
    "from src.next_token_dataset import build_dataloaders\n",
    "from src.lstm_model import LSTMAutocomplete\n",
    "from src.eval_lstm import evaluate_rouge_lstm\n",
    "from src.eval_transformer_pipeline import evaluate_rouge_gpt2"
   ]
  },
  {
   "cell_type": "code",
   "execution_count": 10,
   "id": "ead1d98a",
   "metadata": {},
   "outputs": [],
   "source": [
    "# Загрузка конфига\n",
    "cfg_path = Path(\"configs/default.yaml\")\n",
    "assert cfg_path.exists(), f\"Не найден конфиг {cfg_path}\"\n",
    "with open(cfg_path, \"r\", encoding=\"utf-8\") as f:\n",
    "    cfg = yaml.safe_load(f)"
   ]
  },
  {
   "cell_type": "code",
   "execution_count": 3,
   "id": "fd70f623",
   "metadata": {},
   "outputs": [
    {
     "name": "stdout",
     "output_type": "stream",
     "text": [
      "Используемое устройство: cuda\n"
     ]
    }
   ],
   "source": [
    "# Фиксируем сид и девайс\n",
    "set_seed(cfg.get(\"seed\", 123))\n",
    "device = torch.device(\"cuda\" if torch.cuda.is_available() and cfg.get(\"device\", \"auto\") != \"cpu\" else \"cpu\")\n",
    "print(f\"Используемое устройство: {device}\")"
   ]
  },
  {
   "cell_type": "code",
   "execution_count": 4,
   "id": "d0603a04",
   "metadata": {},
   "outputs": [
    {
     "name": "stdout",
     "output_type": "stream",
     "text": [
      "Найдены существующие сплиты train/val/test — пропускаем разбиение.\n",
      "train: C:\\Users\\Design\\Downloads\\for_yandex_NLP_course\\project1\\text-autocomplete\\data\\train.txt\n",
      "val  : C:\\Users\\Design\\Downloads\\for_yandex_NLP_course\\project1\\text-autocomplete\\data\\val.txt\n",
      "test : C:\\Users\\Design\\Downloads\\for_yandex_NLP_course\\project1\\text-autocomplete\\data\\test.txt\n"
     ]
    }
   ],
   "source": [
    "# Подготовка сплитов (если уже есть data/train.txt / val.txt / test.txt, этот шаг пропустится)\n",
    "train_path = Path(cfg[\"data\"][\"train_path\"]).resolve()\n",
    "val_path   = Path(cfg[\"data\"][\"val_path\"]).resolve()\n",
    "test_path  = Path(cfg[\"data\"][\"test_path\"]).resolve()\n",
    "\n",
    "if not (train_path.exists() and val_path.exists() and test_path.exists()):\n",
    "    print(\"Не найдены train/val/test — пытаемся сделать сплит из raw датасета...\")\n",
    "    # ВАЖНО: укажите путь к исходному raw датасету, если хотите собрать сплиты автоматически\n",
    "    RAW_DATA_PATH = Path(\"data/raw_dataset.txt\").resolve()\n",
    "    assert RAW_DATA_PATH.exists(), (\n",
    "        \"Raw датасет не найден. Положите файл в data/raw_dataset.txt или подготовьте data/train.txt, data/val.txt, data/test.txt\"\n",
    "    )\n",
    "    split_and_save_texts(\n",
    "        input_path=RAW_DATA_PATH,\n",
    "        output_dir=train_path.parent,\n",
    "        # используем дефолты функции (val_size=0.1, test_size=0.1), seed возьмём из конфига\n",
    "        seed=cfg.get(\"seed\", 123),\n",
    "    )\n",
    "else:\n",
    "    print(\"Найдены существующие сплиты train/val/test — пропускаем разбиение.\")\n",
    "\n",
    "print(\"train:\", train_path)\n",
    "print(\"val  :\", val_path)\n",
    "print(\"test :\", test_path)"
   ]
  },
  {
   "cell_type": "code",
   "execution_count": 5,
   "id": "4d66817e",
   "metadata": {},
   "outputs": [
    {
     "name": "stdout",
     "output_type": "stream",
     "text": [
      "Загружено: train=1280398, val=160050, test=160050\n",
      "После токенизации: train=1280398, val=160050, test=160050\n",
      "train[0] tokens: ['<user>', 'boo']\n",
      "train[1] tokens: ['<user>', 'we', 'came', 'to', 'the', 'studio', 'but', 'no', 'one', 'was', 'there', '...', 'gonna', 'go', 'through', 'video', 'footage', 'tomorrow', 'with', 'femi', '!']\n"
     ]
    }
   ],
   "source": [
    "# Загрузка текстов из файлов\n",
    "train_texts = load_lines(train_path)\n",
    "val_texts   = load_lines(val_path)\n",
    "test_texts  = load_lines(test_path)\n",
    "\n",
    "print(f\"Загружено: train={len(train_texts)}, val={len(val_texts)}, test={len(test_texts)}\")\n",
    "\n",
    "# Токенизация для LSTM (TweetTokenizer + простая чистка)\n",
    "train_tokens = clean_and_tokenize(train_texts)\n",
    "val_tokens   = clean_and_tokenize(val_texts)\n",
    "test_tokens  = clean_and_tokenize(test_texts)\n",
    "\n",
    "print(f\"После токенизации: train={len(train_tokens)}, val={len(val_tokens)}, test={len(test_tokens)}\")\n",
    "# Пример первых 2 токенизированных твитов\n",
    "for i in range(min(2, len(train_tokens))):\n",
    "    print(f\"train[{i}] tokens:\", train_tokens[i])"
   ]
  },
  {
   "cell_type": "code",
   "execution_count": 6,
   "id": "c70b35b3",
   "metadata": {},
   "outputs": [
    {
     "name": "stdout",
     "output_type": "stream",
     "text": [
      "Размер словаря: 7480\n",
      "Спец-идентификаторы: {'PAD': 0, 'BOS': 1, 'EOS': 2, 'UNK': 3}\n"
     ]
    }
   ],
   "source": [
    "# Построение словаря\n",
    "vocab, inv_vocab = build_vocabulary(\n",
    "    train_tokens,\n",
    "    max_size=cfg[\"vocab\"][\"max_size\"],\n",
    "    min_freq=cfg[\"vocab\"][\"min_freq\"],\n",
    ")\n",
    "PAD, BOS, EOS, UNK = vocab[\"[PAD]\"], vocab[\"[BOS]\"], vocab[\"[EOS]\"], vocab[\"[UNK]\"]\n",
    "vocab_size = len(vocab)\n",
    "print(f\"Размер словаря: {vocab_size}\")\n",
    "print(\"Спец-идентификаторы:\", {\"PAD\": PAD, \"BOS\": BOS, \"EOS\": EOS, \"UNK\": UNK})"
   ]
  },
  {
   "cell_type": "code",
   "execution_count": 7,
   "id": "f2905d87",
   "metadata": {},
   "outputs": [
    {
     "name": "stdout",
     "output_type": "stream",
     "text": [
      "Доля UNK в train: 5.844%\n"
     ]
    }
   ],
   "source": [
    "# Посмотрим покрытие словаря (оценим долю [UNK] в train)\n",
    "total_tokens = sum(len(x) for x in train_tokens)\n",
    "unk_tokens = sum(sum(1 for t in x if vocab.get(t, UNK) == UNK) for x in train_tokens)\n",
    "if total_tokens > 0:\n",
    "    print(f\"Доля UNK в train: {unk_tokens/total_tokens:.3%}\")\n",
    "else:\n",
    "    print(\"Пустой train после токенизации — проверьте входные данные\")"
   ]
  },
  {
   "cell_type": "code",
   "execution_count": 8,
   "id": "622ef94f",
   "metadata": {},
   "outputs": [
    {
     "name": "stdout",
     "output_type": "stream",
     "text": [
      "Dataloaders готовы\n"
     ]
    }
   ],
   "source": [
    "# Сборка DataLoader'ов\n",
    "max_len    = cfg[\"train\"][\"max_len\"]\n",
    "batch_size = cfg[\"train\"][\"batch_size\"]\n",
    "pin_memory = (device.type == \"cuda\")\n",
    "\n",
    "train_loader, val_loader, test_loader = build_dataloaders(\n",
    "    train_tokens, val_tokens, test_tokens, vocab,\n",
    "    max_len=max_len, batch_size=batch_size, pin_memory=pin_memory\n",
    ")\n",
    "print(\"Dataloaders готовы\")"
   ]
  },
  {
   "cell_type": "code",
   "execution_count": 9,
   "id": "0e8a7d18",
   "metadata": {},
   "outputs": [
    {
     "data": {
      "image/png": "[encoded data removed]",
      "text/plain": [
       "<Figure size 648x360 with 2 Axes>"
      ]
     },
     "metadata": {},
     "output_type": "display_data"
    },
    {
     "name": "stdout",
     "output_type": "stream",
     "text": [
      "Лучшие LSTM-результаты (val): {'rouge1': 0.05342658459237559, 'rouge2': 0.006390099452026053, 'rougeL': 0.05331739120008722, 'rougeLsum': 0.053344814419016576}\n",
      "Примеры (val):\n",
      "PREFIX: its a beautiful day to be mothers day ! i love you so much , mom ! more than you can know ! happy\n",
      "PRED:   birthday to me ! ! !\n",
      "REF:    mothers day to all the moms ! you\n",
      "---\n",
      "PREFIX: i almost slept at a normal time . i [UNK] for two hours at a normal time . but then i [UNK] got up\n",
      "PRED:   early .\n",
      "REF:    to do something . i am awake now\n",
      "---\n",
      "PREFIX: changed my [UNK] , but it isn't good as it supposed to be ~ ~ n i don't think it [UNK] that much money\n",
      "PRED:   !\n",
      "REF:    .. hate that [UNK] ~ ~ ;(\n",
      "---\n",
      "PREFIX: <user> hahahaha ! oh my god ! ! ! can i come eat with you ? i'll cook some good old [UNK] mac n\n",
      "PRED:   my shoe .\n",
      "REF:    ' cheese with fancy [UNK] [UNK] .\n",
      "---\n",
      "PREFIX: folder and i finally see how much i need to change for you . it's going to happen okay ... so whatever you do\n",
      "PRED:   \n",
      "REF:    , don't give up please . <3\n",
      "---\n"
     ]
    }
   ],
   "source": [
    "# Инициализация модели и обучение (с использованием реализованной train_with_plotting)\n",
    "from src.lstm_train import train_with_plotting  # ВАЖНО: модуль с обучением должен называться src/train.py\n",
    "\n",
    "model = LSTMAutocomplete(\n",
    "    vocab_size=vocab_size,\n",
    "    emb_dim=cfg[\"model\"][\"emb_dim\"],\n",
    "    hidden_dim=cfg[\"model\"][\"hidden_dim\"],\n",
    "    num_layers=cfg[\"model\"][\"num_layers\"],\n",
    "    dropout=cfg[\"model\"][\"dropout\"],\n",
    "    pad_idx=PAD,\n",
    ").to(device)\n",
    "\n",
    "optimizer = torch.optim.Adam(\n",
    "    model.parameters(),\n",
    "    lr=cfg[\"train\"][\"lr\"],\n",
    "    weight_decay=cfg[\"train\"][\"weight_decay\"],\n",
    ")\n",
    "criterion = nn.CrossEntropyLoss(ignore_index=PAD, reduction=\"mean\")\n",
    "\n",
    "hist, best_lstm_results, fig, best_lstm_examples = train_with_plotting(\n",
    "    model, train_loader, val_loader, optimizer, criterion,\n",
    "    inv_vocab, PAD, BOS, EOS, UNK, device, max_len,\n",
    "    num_epochs=cfg[\"train\"][\"epochs\"],\n",
    "    quarter=cfg[\"train\"][\"quarter\"],\n",
    "    do_sample=cfg[\"train\"][\"do_sample\"],\n",
    "    top_p=cfg[\"train\"][\"top_p\"],\n",
    "    temperature=cfg[\"train\"][\"temperature\"],\n",
    "    num_show=cfg[\"train\"][\"num_show\"],\n",
    "    ckpt_dir=cfg[\"train\"][\"ckpt_dir\"],\n",
    "    save_best=cfg[\"train\"][\"save_best\"],\n",
    "    clip_norm=cfg[\"train\"][\"clip_norm\"],\n",
    "    use_plot=cfg[\"train\"].get(\"use_plot\", False),\n",
    ")\n",
    "\n",
    "print(\"Лучшие LSTM-результаты (val):\", best_lstm_results)\n",
    "if best_lstm_examples:\n",
    "    print(\"Примеры (val):\")\n",
    "    for ex in best_lstm_examples[:min(5, len(best_lstm_examples))]:\n",
    "        print(\"PREFIX:\", ex[\"prefix\"]) \n",
    "        print(\"PRED:  \", ex[\"prediction\"])\n",
    "        print(\"REF:   \", ex[\"reference\"]) \n",
    "        print(\"---\")\n",
    "\n",
    "# Сохраним краткое резюме\n",
    "#save_summary(best_lstm_results, best_lstm_examples, out_dir=cfg[\"train\"][\"ckpt_dir\"], filename_prefix=\"lstm_results\", top_k=5)"
   ]
  },
  {
   "cell_type": "code",
   "execution_count": 11,
   "id": "d526dca0",
   "metadata": {},
   "outputs": [
    {
     "name": "stderr",
     "output_type": "stream",
     "text": [
      "C:\\ProgramData\\Anaconda3\\lib\\site-packages\\transformers\\utils\\generic.py:309: UserWarning: torch.utils._pytree._register_pytree_node is deprecated. Please use torch.utils._pytree.register_pytree_node instead.\n",
      "  _torch_pytree._register_pytree_node(\n",
      "Eval GPT-2:   0%|                                                                            | 0/10000 [00:00<?, ?it/s]C:\\ProgramData\\Anaconda3\\lib\\site-packages\\transformers\\generation\\utils.py:1473: UserWarning: You have modified the pretrained model configuration to control generation. This is a deprecated strategy to control generation and will be removed soon, in a future version. Please use and modify the model generation configuration (see https://huggingface.co/docs/transformers/generation_strategies#default-text-generation-configuration )\n",
      "  warnings.warn(\n",
      "Eval GPT-2: 100%|████████████████████████████████████████████████████████████████| 10000/10000 [08:29<00:00, 19.63it/s]\n"
     ]
    },
    {
     "name": "stdout",
     "output_type": "stream",
     "text": [
      "Обработано 9857 примеров\n",
      "GPT-2 val results: {'rouge1': 0.07148325119153526, 'rouge2': 0.0072525543510630255, 'rougeL': 0.07109398290747442, 'rougeLsum': 0.0711247239678809}\n",
      "Examples:\n",
      "PREFIX:  <user> hahahaha! Oh my God!!! Can I come eat with you? I'll cook some good old fashioned mac n'\n",
      "PRED:    gravy! (and maybe make me the first\n",
      "REF:      cheese with fancy dijon ketchups.\n",
      "---\n",
      "Examples:\n",
      "PREFIX:  Its a beautiful day to be mothers day! I love you SO much, mom! More than you can know! Happy Mothers day\n",
      "PRED:    !\n",
      "\n",
      "This week we're sharing\n",
      "REF:      to all the moms! You rock!\n",
      "---\n",
      "Examples:\n",
      "PREFIX:  I almost slept at a normal time. I dozed for two hours at a normal time. But then I stupidly got up to\n",
      "PRED:    sleep.\n",
      "“It“\n",
      "REF:      do something. I am awake now.\n",
      "---\n",
      "Examples:\n",
      "PREFIX:  Changed my hairstyle,but it isn't good as it supposed to be~~N I don't think it wealthed that much money..\n",
      "PRED:    I really do think it would be cool if\n",
      "REF:      hate that hairdresser~~;(\n",
      "---\n",
      "Examples:\n",
      "PREFIX:  folder and i finally see how much i need to change for you. It's going to happen okay.... so whatever you do, don\n",
      "PRED:    't hesitate to send me a link to get\n",
      "REF:     't give up please. &lt;3\n",
      "---\n"
     ]
    }
   ],
   "source": [
    "# Оценка DistilGPT-2 (baseline) на val и test с помощью реализованной evaluate_rouge_gpt2\n",
    "from transformers import AutoTokenizer, AutoModelForCausalLM\n",
    "\n",
    "model_name = cfg[\"transformer_eval\"][\"model_name\"]\n",
    "tokenizer = AutoTokenizer.from_pretrained(model_name, padding_side=\"left\")\n",
    "gpt2_model = AutoModelForCausalLM.from_pretrained(model_name).to(device)\n",
    "if tokenizer.pad_token_id is None:\n",
    "    tokenizer.pad_token = tokenizer.eos_token\n",
    "gpt2_model.config.pad_token_id = tokenizer.pad_token_id\n",
    "\n",
    "subset_n = cfg[\"transformer_eval\"].get(\"subset_n\", None)\n",
    "val_texts_for_eval = val_texts[:subset_n] if subset_n is not None else val_texts\n",
    "test_texts_for_eval = test_texts[:subset_n] if subset_n is not None else test_texts\n",
    "\n",
    "# Val\n",
    "gpt2_val_results, gpt2_val_examples = evaluate_rouge_gpt2(\n",
    "    text_list=val_texts_for_eval,\n",
    "    tokenizer=tokenizer,\n",
    "    model=gpt2_model,\n",
    "    device=device,\n",
    "    quarter=cfg[\"transformer_eval\"][\"quarter\"],\n",
    "    do_sample=True,\n",
    "    top_k=cfg[\"transformer_eval\"][\"top_k\"],\n",
    "    top_p=cfg[\"transformer_eval\"][\"top_p\"],\n",
    "    temperature=cfg[\"transformer_eval\"][\"temperature\"],\n",
    "    num_show=cfg[\"transformer_eval\"][\"num_show\"],\n",
    "    max_length=cfg[\"transformer_eval\"][\"max_length\"],\n",
    ")\n",
    "print(\"GPT-2 val results:\", gpt2_val_results)\n",
    "\n",
    "# Печать выбранных примеров по индексам из конфига (без выхода за границы)\n",
    "example_ids = cfg[\"transformer_eval\"].get(\"example_ids\", [])\n",
    "safe_ids = [i for i in example_ids if 0 <= i < len(gpt2_val_examples)]\n",
    "gpt2_val_selected_examples = select_examples_by_indices(gpt2_val_examples, safe_ids) if safe_ids else []\n",
    "if gpt2_val_selected_examples:\n",
    "    print_selected_examples(gpt2_val_selected_examples)\n",
    "\n",
    "#save_summary(gpt2_val_results, gpt2_val_selected_examples, out_dir=cfg[\"train\"][\"ckpt_dir\"], filename_prefix=\"gpt2_val_results\", top_k=5)"
   ]
  },
  {
   "cell_type": "code",
   "execution_count": 12,
   "id": "8ff29cf7",
   "metadata": {},
   "outputs": [
    {
     "name": "stderr",
     "output_type": "stream",
     "text": [
      "Eval GPT-2: 100%|████████████████████████████████████████████████████████████████| 10000/10000 [08:19<00:00, 20.03it/s]\n"
     ]
    },
    {
     "name": "stdout",
     "output_type": "stream",
     "text": [
      "Обработано 9855 примеров\n",
      "GPT-2 test results: {'rouge1': 0.06790248609144076, 'rouge2': 0.00732532392349744, 'rougeL': 0.06738347937558839, 'rougeLsum': 0.06737092471317493}\n",
      "Examples:\n",
      "PREFIX:  <user> for real, i used to\n",
      "PRED:    have a few\n",
      "REF:      live skips\n",
      "---\n",
      "Examples:\n",
      "PREFIX:  <user> ouch dave\n",
      "PRED:    a\n",
      "REF:      that hurts\n",
      "---\n",
      "Examples:\n",
      "PREFIX:  I want my mom\n",
      "PRED:    to\n",
      "REF:     my\n",
      "---\n",
      "Examples:\n",
      "PREFIX:  <user> thank you for the laugh this morning! I hated that it was\n",
      "PRED:    so funny and fun.\n",
      "REF:      at your expense though!\n",
      "---\n",
      "Examples:\n",
      "PREFIX:  <user> What's wrong\n",
      "PRED:    with\n",
      "REF:     ?\n",
      "---\n"
     ]
    }
   ],
   "source": [
    "# Test\n",
    "gpt2_test_results, gpt2_test_examples = evaluate_rouge_gpt2(\n",
    "    text_list=test_texts_for_eval,\n",
    "    tokenizer=tokenizer,\n",
    "    model=gpt2_model,\n",
    "    device=device,\n",
    "    quarter=cfg[\"transformer_eval\"][\"quarter\"],\n",
    "    do_sample=True,\n",
    "    top_k=cfg[\"transformer_eval\"][\"top_k\"],\n",
    "    top_p=cfg[\"transformer_eval\"][\"top_p\"],\n",
    "    temperature=cfg[\"transformer_eval\"][\"temperature\"],\n",
    "    num_show=min(cfg[\"transformer_eval\"][\"num_show\"], 10),  # выводим поменьше примеров в ноутбуке\n",
    "    max_length=cfg[\"transformer_eval\"][\"max_length\"],\n",
    ")\n",
    "print(\"GPT-2 test results:\", gpt2_test_results)\n",
    "if gpt2_test_examples:\n",
    "    print_selected_examples(gpt2_test_examples[:5])\n",
    "\n",
    "#save_summary(gpt2_test_results, gpt2_test_examples, out_dir=cfg[\"train\"][\"ckpt_dir\"], filename_prefix=\"gpt2_test_results\", top_k=5)"
   ]
  },
  {
   "cell_type": "markdown",
   "id": "51153b61",
   "metadata": {},
   "source": [
    "# Выводы\n",
    "\n",
    "- Мы обучили простую LSTM-модель автодополнения на токенизированных твитах и оценили качество на валидации/тесте по ROUGE-1/ROUGE-2. В ноутбуке напечатаны лучшие метрики и несколько примеров.\n",
    "- В качестве базовой модели также оценили DistilGPT-2 на той же задаче и сравнили ROUGE с LSTM.\n",
    "- Ожидаемо, предобученная DistilGPT-2 часто показывает более высокие ROUGE-метрики, особенно при небольшом количестве эпох обучения LSTM и высоком пороге min_freq в словаре. Тем не менее, качество LSTM можно улучшать увеличением количества эпох, снижением min_freq, тюнингом размера словаря, кол-вом слоев, а также регуляризацией и настройкой стратегии сэмплирования.\n",
    "- В папке models/ сохранены краткие текстовые отчёты с метриками и примерами для LSTM и GPT-2."
   ]
  },
  {
   "cell_type": "code",
   "execution_count": null,
   "id": "a745eb13",
   "metadata": {},
   "outputs": [],
   "source": []
  }
 ],
 "metadata": {
  "@webio": {
   "lastCommId": null,
   "lastKernelId": null
  },
  "kernelspec": {
   "display_name": "Python 3 (ipykernel)",
   "language": "python",
   "name": "python3"
  },
  "language_info": {
   "codemirror_mode": {
    "name": "ipython",
    "version": 3
   },
   "file_extension": ".py",
   "mimetype": "text/x-python",
   "name": "python",
   "nbconvert_exporter": "python",
   "pygments_lexer": "ipython3",
   "version": "3.8.8"
  }
 },
 "nbformat": 4,
 "nbformat_minor": 5
}
